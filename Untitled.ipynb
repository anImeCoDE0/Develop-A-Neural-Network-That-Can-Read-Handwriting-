{
 "cells": [
  {
   "cell_type": "code",
   "execution_count": 1,
   "id": "f9be1e15",
   "metadata": {},
   "outputs": [],
   "source": [
    "import numpy as np\n",
    "import pandas as pd\n",
    "import matplotlib.pyplot as plt\n",
    "import tensorflow as tf\n",
    "from tensorflow import keras\n",
    "from keras.preprocessing import image\n",
    "import seaborn as sns\n",
    "import warnings \n",
    "from keras.utils import np_utils\n",
    "from keras.models import Sequential \n",
    "from keras.layers import Dense, Dropout, BatchNormalization\n",
    "from keras.layers import Conv2D, MaxPooling2D, Flatten\n",
    "from keras.datasets import g"
   ]
  },
  {
   "cell_type": "code",
   "execution_count": 2,
   "id": "919d95f8",
   "metadata": {},
   "outputs": [
    {
     "name": "stdout",
     "output_type": "stream",
     "text": [
      "Downloading data from https://storage.googleapis.com/tensorflow/tf-keras-datasets/mnist.npz\n",
      "11493376/11490434 [==============================] - 11s 1us/step\n",
      "11501568/11490434 [==============================] - 11s 1us/step\n"
     ]
    }
   ],
   "source": [
    "(X_train, y_train), (X_test, y_test) = mnist.load_data()"
   ]
  },
  {
   "cell_type": "code",
   "execution_count": 3,
   "id": "3aabd179",
   "metadata": {},
   "outputs": [],
   "source": [
    "X_train = X_train.astype('float32')\n",
    "X_test = X_test.astype('float32')\n",
    "X_train = X_train/255\n",
    "X_test = X_test/255\n",
    "X_train = X_train.reshape(60000, 28, 28, 1)\n",
    "X_test = X_test.reshape(10000, 28, 28, 1)\n"
   ]
  },
  {
   "cell_type": "code",
   "execution_count": 4,
   "id": "0eec7237",
   "metadata": {},
   "outputs": [
    {
     "name": "stdout",
     "output_type": "stream",
     "text": [
      "label of first image : 5\n",
      "after converting into a vector :  [0. 0. 0. 0. 0. 1. 0. 0. 0. 0.]\n"
     ]
    }
   ],
   "source": [
    "print(\"label of first image :\", y_train[0])\n",
    "Y_train = np_utils.to_categorical(y_train, 10) \n",
    "Y_test = np_utils.to_categorical(y_test, 10)\n",
    "print(\"after converting into a vector : \",Y_train[0])"
   ]
  },
  {
   "cell_type": "code",
   "execution_count": 5,
   "id": "a5fcfebf",
   "metadata": {},
   "outputs": [
    {
     "name": "stdout",
     "output_type": "stream",
     "text": [
      "Epoch 1/20\n",
      "469/469 [==============================] - 102s 212ms/step - loss: 0.2128 - accuracy: 0.9352\n",
      "Epoch 2/20\n",
      "469/469 [==============================] - 99s 212ms/step - loss: 0.0798 - accuracy: 0.9761\n",
      "Epoch 3/20\n",
      "469/469 [==============================] - 99s 212ms/step - loss: 0.0621 - accuracy: 0.9815\n",
      "Epoch 4/20\n",
      "469/469 [==============================] - 99s 211ms/step - loss: 0.0506 - accuracy: 0.9842\n",
      "Epoch 5/20\n",
      "469/469 [==============================] - 100s 214ms/step - loss: 0.0427 - accuracy: 0.9873\n",
      "Epoch 6/20\n",
      "469/469 [==============================] - 99s 212ms/step - loss: 0.0348 - accuracy: 0.9893\n",
      "Epoch 7/20\n",
      "469/469 [==============================] - 99s 210ms/step - loss: 0.0304 - accuracy: 0.9901\n",
      "Epoch 8/20\n",
      "469/469 [==============================] - 99s 211ms/step - loss: 0.0299 - accuracy: 0.9906\n",
      "Epoch 9/20\n",
      "469/469 [==============================] - 102s 217ms/step - loss: 0.0249 - accuracy: 0.9917\n",
      "Epoch 10/20\n",
      "469/469 [==============================] - 103s 221ms/step - loss: 0.0251 - accuracy: 0.9918\n",
      "Epoch 11/20\n",
      "469/469 [==============================] - 103s 220ms/step - loss: 0.0231 - accuracy: 0.9923\n",
      "Epoch 12/20\n",
      "469/469 [==============================] - 103s 221ms/step - loss: 0.0213 - accuracy: 0.9929\n",
      "Epoch 13/20\n",
      "469/469 [==============================] - 95s 203ms/step - loss: 0.0204 - accuracy: 0.9928\n",
      "Epoch 14/20\n",
      "469/469 [==============================] - 91s 194ms/step - loss: 0.0172 - accuracy: 0.9942\n",
      "Epoch 15/20\n",
      "469/469 [==============================] - 91s 194ms/step - loss: 0.0166 - accuracy: 0.9943\n",
      "Epoch 16/20\n",
      "469/469 [==============================] - 93s 198ms/step - loss: 0.0147 - accuracy: 0.9949\n",
      "Epoch 17/20\n",
      "469/469 [==============================] - 93s 199ms/step - loss: 0.0155 - accuracy: 0.9949\n",
      "Epoch 18/20\n",
      "469/469 [==============================] - 96s 204ms/step - loss: 0.0137 - accuracy: 0.9957\n",
      "Epoch 19/20\n",
      "469/469 [==============================] - 85s 182ms/step - loss: 0.0142 - accuracy: 0.9956\n",
      "Epoch 20/20\n",
      "469/469 [==============================] - 85s 182ms/step - loss: 0.0133 - accuracy: 0.9955\n"
     ]
    },
    {
     "data": {
      "text/plain": [
       "<keras.callbacks.History at 0x24d4de05ab0>"
      ]
     },
     "execution_count": 5,
     "metadata": {},
     "output_type": "execute_result"
    }
   ],
   "source": [
    "model = None\n",
    "model = Sequential()\n",
    "model.add(Conv2D(32, kernel_size=(3, 3), padding='same', input_shape=(28, 28, 1), activation='relu', kernel_initializer='he_normal'))\n",
    "model.add(Conv2D(64, (3, 3), activation='relu', kernel_initializer='he_normal'))\n",
    "model.add(MaxPooling2D(pool_size=(2, 2)))\n",
    "model.add(Dropout(0.25))\n",
    "model.add(Flatten())\n",
    "model.add(Dense(128, activation='relu', kernel_initializer='he_normal'))\n",
    "model.add(Dropout(0.5))\n",
    "model.add(Dense(10, activation='softmax'))\n",
    "model.compile(optimizer='adam', loss='categorical_crossentropy', metrics=['accuracy'])\n",
    "model.fit(X_train, Y_train, batch_size=128, epochs=20)"
   ]
  },
  {
   "cell_type": "code",
   "execution_count": 7,
   "id": "a2a8783c",
   "metadata": {},
   "outputs": [
    {
     "name": "stdout",
     "output_type": "stream",
     "text": [
      "Loss and Accuracy [0.032786235213279724, 0.9919000267982483]\n"
     ]
    }
   ],
   "source": [
    "pred = model.evaluate(X_test, Y_test, verbose=0)\n",
    "print('Loss and Accuracy', pred)"
   ]
  },
  {
   "cell_type": "code",
   "execution_count": 16,
   "id": "c2922f3c",
   "metadata": {},
   "outputs": [
    {
     "data": {
      "text/plain": [
       "<matplotlib.image.AxesImage at 0x24d54ebf610>"
      ]
     },
     "execution_count": 16,
     "metadata": {},
     "output_type": "execute_result"
    },
    {
     "data": {
      "image/png": "[encoded data removed]",
      "text/plain": [
       "<Figure size 432x288 with 1 Axes>"
      ]
     },
     "metadata": {
      "needs_background": "light"
     },
     "output_type": "display_data"
    }
   ],
   "source": [
    "plt.imshow(image.array_to_img(X_test[4]), cmap=\"gray\")"
   ]
  },
  {
   "cell_type": "code",
   "execution_count": 17,
   "id": "586b6ffa",
   "metadata": {},
   "outputs": [
    {
     "data": {
      "text/plain": [
       "4"
      ]
     },
     "execution_count": 17,
     "metadata": {},
     "output_type": "execute_result"
    }
   ],
   "source": [
    "y_test[4]"
   ]
  },
  {
   "cell_type": "code",
   "execution_count": 14,
   "id": "c7d45840",
   "metadata": {},
   "outputs": [
    {
     "data": {
      "text/plain": [
       "<matplotlib.image.AxesImage at 0x24d54e6d4e0>"
      ]
     },
     "execution_count": 14,
     "metadata": {},
     "output_type": "execute_result"
    },
    {
     "data": {
      "image/png": "[encoded data removed]",
      "text/plain": [
       "<Figure size 432x288 with 1 Axes>"
      ]
     },
     "metadata": {
      "needs_background": "light"
     },
     "output_type": "display_data"
    }
   ],
   "source": [
    "plt.imshow(image.array_to_img(X_test[2]), cmap=\"gray\")"
   ]
  },
  {
   "cell_type": "code",
   "execution_count": 15,
   "id": "2c2bfc03",
   "metadata": {},
   "outputs": [
    {
     "data": {
      "text/plain": [
       "1"
      ]
     },
     "execution_count": 15,
     "metadata": {},
     "output_type": "execute_result"
    }
   ],
   "source": [
    "y_test[2]"
   ]
  },
  {
   "cell_type": "code",
   "execution_count": 18,
   "id": "b9d8b312",
   "metadata": {},
   "outputs": [
    {
     "name": "stdout",
     "output_type": "stream",
     "text": [
      "Predicted Value:  6\n",
      "Successful \n"
     ]
    },
    {
     "data": {
      "image/png": "[encoded data removed]",
      "text/plain": [
       "<Figure size 432x288 with 1 Axes>"
      ]
     },
     "metadata": {
      "needs_background": "light"
     },
     "output_type": "display_data"
    }
   ],
   "source": [
    "plt.imshow(X_test[11],cmap='gray_r')\n",
    "plt.title('Actual Value: {}'.format(Y_test[11]))\n",
    "prediction=model.predict(X_test)\n",
    "\n",
    "plt.axis('off')\n",
    "print('Predicted Value: ',np.argmax(prediction[11]))\n",
    "if(y_test[11]==(np.argmax(prediction[11]))):\n",
    "  print('Successful ')\n",
    "else:\n",
    "  print('Unsuccessful ')"
   ]
  },
  {
   "cell_type": "code",
   "execution_count": null,
   "id": "54eb79ab",
   "metadata": {},
   "outputs": [],
   "source": []
  }
 ],
 "metadata": {
  "kernelspec": {
   "display_name": "Python 3 (ipykernel)",
   "language": "python",
   "name": "python3"
  },
  "language_info": {
   "codemirror_mode": {
    "name": "ipython",
    "version": 3
   },
   "file_extension": ".py",
   "mimetype": "text/x-python",
   "name": "python",
   "nbconvert_exporter": "python",
   "pygments_lexer": "ipython3",
   "version": "3.10.0"
  }
 },
 "nbformat": 4,
 "nbformat_minor": 5
}
